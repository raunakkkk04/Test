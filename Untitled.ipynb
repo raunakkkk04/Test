{
 "cells": [
  {
   "cell_type": "code",
   "execution_count": 1,
   "id": "08b4b631-450f-40ef-8dc3-1a7c26661e3c",
   "metadata": {},
   "outputs": [
    {
     "name": "stdout",
     "output_type": "stream",
     "text": [
      "raunak\n",
      "Arsh\n",
      "Yug\n"
     ]
    }
   ],
   "source": [
    "#Q1. Explain with an example each when to use a for loop and a while loop.\n",
    "\n",
    "#Use a for loop when you know in advance how many times you want to execute a statement or a block of statements. For example, iterating over a list or a range of numbers.\n",
    "# Using a for loop to iterate over a list of names\n",
    "names = [\"raunak\", \"Arsh\", \"Yug\"]\n",
    "for name in names:\n",
    "    print(name)"
   ]
  },
  {
   "cell_type": "code",
   "execution_count": 2,
   "id": "b79abe34-d38a-44e7-a8be-10793225edb2",
   "metadata": {},
   "outputs": [
    {
     "name": "stdout",
     "output_type": "stream",
     "text": [
      "0\n",
      "1\n",
      "2\n",
      "3\n",
      "4\n"
     ]
    }
   ],
   "source": [
    "#Use a while loop when you want to execute a statement or a block of statements as long as a condition is true. This is useful when the number of iterations is not known in advance.\n",
    "# Using a while loop to print numbers until a condition is met\n",
    "count = 0\n",
    "while count < 5:\n",
    "    print(count)\n",
    "    count += 1"
   ]
  },
  {
   "cell_type": "code",
   "execution_count": 3,
   "id": "27d1cd49-2722-494e-8027-eb6a052a5cb9",
   "metadata": {},
   "outputs": [
    {
     "name": "stdout",
     "output_type": "stream",
     "text": [
      "Sum using for loop: 55\n",
      "Product using for loop: 3628800\n"
     ]
    }
   ],
   "source": [
    "#Q2. Write a python program to print the sum and product of the first 10 natural numbers using for and while loop.\n",
    "# Sum and product using for loop\n",
    "sum_for = 0\n",
    "product_for = 1\n",
    "for i in range(1, 11):\n",
    "    sum_for += i\n",
    "    product_for *= i\n",
    "print(f\"Sum using for loop: {sum_for}\")\n",
    "print(f\"Product using for loop: {product_for}\")"
   ]
  },
  {
   "cell_type": "code",
   "execution_count": 4,
   "id": "798c319c-9c80-4674-bd16-d6d014661b80",
   "metadata": {},
   "outputs": [
    {
     "name": "stdout",
     "output_type": "stream",
     "text": [
      "Sum using while loop: 55\n",
      "Product using while loop: 3628800\n"
     ]
    }
   ],
   "source": [
    "# Sum and product using while loop\n",
    "sum_while = 0\n",
    "product_while = 1\n",
    "i = 1\n",
    "while i <= 10:\n",
    "    sum_while += i\n",
    "    product_while *= i\n",
    "    i += 1\n",
    "print(f\"Sum using while loop: {sum_while}\")\n",
    "print(f\"Product using while loop: {product_while}\")"
   ]
  },
  {
   "cell_type": "code",
   "execution_count": 5,
   "id": "c52d52c9-ebc8-467c-95b2-e19c953ae13a",
   "metadata": {},
   "outputs": [
    {
     "name": "stdin",
     "output_type": "stream",
     "text": [
      "Enter the units of electricity consumed in a month:  310\n"
     ]
    },
    {
     "name": "stdout",
     "output_type": "stream",
     "text": [
      "Total electricity bill: Rs. 2250.0\n"
     ]
    }
   ],
   "source": [
    "#Q3. Python program to compute the electricity bill for a household\n",
    "# Electricity bill calculator\n",
    "units = int(input(\"Enter the units of electricity consumed in a month: \"))\n",
    "bill = 0\n",
    "\n",
    "if units <= 100:\n",
    "    bill = units * 4.5\n",
    "elif units <= 200:\n",
    "    bill = 100 * 4.5 + (units - 100) * 6\n",
    "elif units <= 300:\n",
    "    bill = 100 * 4.5 + 100 * 6 + (units - 200) * 10\n",
    "else:\n",
    "    bill = 100 * 4.5 + 100 * 6 + 100 * 10 + (units - 300) * 20\n",
    "\n",
    "print(f\"Total electricity bill: Rs. {bill}\")"
   ]
  },
  {
   "cell_type": "code",
   "execution_count": 6,
   "id": "96d7aac9-3298-49e8-9f26-6a7665a197c6",
   "metadata": {},
   "outputs": [
    {
     "name": "stdout",
     "output_type": "stream",
     "text": [
      "Filtered numbers using for loop: [2, 4, 5, 6, 8, 10, 12, 14, 15, 16, 18, 20, 22, 24, 25, 26, 28, 30, 32, 34, 35, 36, 38, 40, 42, 44, 45, 46, 48, 50, 52, 54, 55, 56, 58, 60, 62, 64, 65, 66, 68, 70, 72, 74, 75, 76, 78, 80, 82, 84, 85, 86, 88, 90, 92, 94, 95, 96, 98, 100]\n"
     ]
    }
   ],
   "source": [
    "#Q4. Calculate the cube of numbers from 1 to 100 and filter those divisible by 4 or 5\n",
    "# Using for loop\n",
    "numbers = list(range(1, 101))\n",
    "filtered_numbers_for = []\n",
    "\n",
    "for number in numbers:\n",
    "    cube = number ** 3\n",
    "    if cube % 4 == 0 or cube % 5 == 0:\n",
    "        filtered_numbers_for.append(number)\n",
    "\n",
    "print(f\"Filtered numbers using for loop: {filtered_numbers_for}\")"
   ]
  },
  {
   "cell_type": "code",
   "execution_count": 7,
   "id": "75754434-8a35-42f1-8a25-60c9ffed549b",
   "metadata": {},
   "outputs": [
    {
     "name": "stdout",
     "output_type": "stream",
     "text": [
      "Filtered numbers using while loop: [2, 4, 5, 6, 8, 10, 12, 14, 15, 16, 18, 20, 22, 24, 25, 26, 28, 30, 32, 34, 35, 36, 38, 40, 42, 44, 45, 46, 48, 50, 52, 54, 55, 56, 58, 60, 62, 64, 65, 66, 68, 70, 72, 74, 75, 76, 78, 80, 82, 84, 85, 86, 88, 90, 92, 94, 95, 96, 98, 100]\n"
     ]
    }
   ],
   "source": [
    "# Using while loop\n",
    "filtered_numbers_while = []\n",
    "i = 1\n",
    "\n",
    "while i <= 100:\n",
    "    cube = i ** 3\n",
    "    if cube % 4 == 0 or cube % 5 == 0:\n",
    "        filtered_numbers_while.append(i)\n",
    "    i += 1\n",
    "\n",
    "print(f\"Filtered numbers using while loop: {filtered_numbers_while}\")"
   ]
  },
  {
   "cell_type": "code",
   "execution_count": 8,
   "id": "418f3d66-2131-4d26-9082-354cd9d8cca3",
   "metadata": {},
   "outputs": [
    {
     "name": "stdout",
     "output_type": "stream",
     "text": [
      "Number of vowels in the string: 12\n"
     ]
    }
   ],
   "source": [
    "#Q5. Program to count vowels in a given string\n",
    "# Vowel counting program\n",
    "string = \"I want to become a data scientist\"\n",
    "vowels = \"aeiouAEIOU\"\n",
    "vowel_count = 0\n",
    "\n",
    "for char in string:\n",
    "    if char in vowels:\n",
    "        vowel_count += 1\n",
    "\n",
    "print(f\"Number of vowels in the string: {vowel_count}\")"
   ]
  },
  {
   "cell_type": "code",
   "execution_count": null,
   "id": "da86d9f2-f9f1-48c2-9faa-fc2f599ca27e",
   "metadata": {},
   "outputs": [],
   "source": []
  }
 ],
 "metadata": {
  "kernelspec": {
   "display_name": "Python 3 (ipykernel)",
   "language": "python",
   "name": "python3"
  },
  "language_info": {
   "codemirror_mode": {
    "name": "ipython",
    "version": 3
   },
   "file_extension": ".py",
   "mimetype": "text/x-python",
   "name": "python",
   "nbconvert_exporter": "python",
   "pygments_lexer": "ipython3",
   "version": "3.10.8"
  }
 },
 "nbformat": 4,
 "nbformat_minor": 5
}
